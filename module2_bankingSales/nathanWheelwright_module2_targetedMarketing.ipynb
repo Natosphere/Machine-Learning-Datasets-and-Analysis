{
  "nbformat": 4,
  "nbformat_minor": 0,
  "metadata": {
    "colab": {
      "name": "nathanWheelwright_module2_targetedMarketing.ipynb",
      "provenance": []
    },
    "kernelspec": {
      "name": "python3",
      "display_name": "Python 3"
    },
    "language_info": {
      "name": "python"
    }
  },
  "cells": [
    {
      "cell_type": "markdown",
      "metadata": {
        "id": "Cq84s5_JTwFF"
      },
      "source": [
        "# Module 2: Targeted Marketing"
      ]
    },
    {
      "cell_type": "markdown",
      "metadata": {
        "id": "2FrL4OIZne9V"
      },
      "source": [
        "*Note: All charts are not rendered due to file size constraints*"
      ]
    },
    {
      "cell_type": "code",
      "metadata": {
        "colab": {
          "base_uri": "https://localhost:8080/",
          "height": 292
        },
        "id": "wRzaKz_GaZhG",
        "outputId": "ea9b75c4-9870-4e79-e7e2-cd4505dbf7c7"
      },
      "source": [
        "import pandas as pd\n",
        "import altair as alt\n",
        "import matplotlib.pyplot as plt\n",
        "from sklearn.preprocessing import OneHotEncoder\n",
        "from sklearn import preprocessing\n",
        "from sklearn.model_selection import train_test_split\n",
        "from sklearn import metrics\n",
        "from sklearn.tree import DecisionTreeClassifier\n",
        "from imblearn.over_sampling import RandomOverSampler\n",
        "from imblearn.over_sampling import SMOTE\n",
        "from imblearn.under_sampling import RandomUnderSampler\n",
        "alt.data_transformers.disable_max_rows()\n",
        "\n",
        "\n",
        "data = pd.read_csv(\"https://raw.githubusercontent.com/byui-cse/cse450-course/master/data/bank.csv\")\n",
        "\n",
        "\n",
        "# data.rename(columns={'emp.var.rate': 'emp_var_rate'})\n",
        "data.columns = data.columns.str.replace('.', '_')\n",
        "\n",
        "data.head(5)\n",
        "\n"
      ],
      "execution_count": null,
      "outputs": [
        {
          "output_type": "stream",
          "name": "stderr",
          "text": [
            "/usr/local/lib/python3.7/dist-packages/sklearn/externals/six.py:31: FutureWarning: The module is deprecated in version 0.21 and will be removed in version 0.23 since we've dropped support for Python 2.7. Please rely on the official version of six (https://pypi.org/project/six/).\n",
            "  \"(https://pypi.org/project/six/).\", FutureWarning)\n",
            "/usr/local/lib/python3.7/dist-packages/sklearn/utils/deprecation.py:144: FutureWarning: The sklearn.neighbors.base module is  deprecated in version 0.22 and will be removed in version 0.24. The corresponding classes / functions should instead be imported from sklearn.neighbors. Anything that cannot be imported from sklearn.neighbors is now part of the private API.\n",
            "  warnings.warn(message, FutureWarning)\n"
          ]
        },
        {
          "output_type": "execute_result",
          "data": {
            "text/html": [
              "<div>\n",
              "<style scoped>\n",
              "    .dataframe tbody tr th:only-of-type {\n",
              "        vertical-align: middle;\n",
              "    }\n",
              "\n",
              "    .dataframe tbody tr th {\n",
              "        vertical-align: top;\n",
              "    }\n",
              "\n",
              "    .dataframe thead th {\n",
              "        text-align: right;\n",
              "    }\n",
              "</style>\n",
              "<table border=\"1\" class=\"dataframe\">\n",
              "  <thead>\n",
              "    <tr style=\"text-align: right;\">\n",
              "      <th></th>\n",
              "      <th>age</th>\n",
              "      <th>job</th>\n",
              "      <th>marital</th>\n",
              "      <th>education</th>\n",
              "      <th>default</th>\n",
              "      <th>housing</th>\n",
              "      <th>loan</th>\n",
              "      <th>contact</th>\n",
              "      <th>month</th>\n",
              "      <th>day_of_week</th>\n",
              "      <th>campaign</th>\n",
              "      <th>pdays</th>\n",
              "      <th>previous</th>\n",
              "      <th>poutcome</th>\n",
              "      <th>emp_var_rate</th>\n",
              "      <th>cons_price_idx</th>\n",
              "      <th>cons_conf_idx</th>\n",
              "      <th>euribor3m</th>\n",
              "      <th>nr_employed</th>\n",
              "      <th>y</th>\n",
              "    </tr>\n",
              "  </thead>\n",
              "  <tbody>\n",
              "    <tr>\n",
              "      <th>0</th>\n",
              "      <td>56</td>\n",
              "      <td>housemaid</td>\n",
              "      <td>married</td>\n",
              "      <td>basic.4y</td>\n",
              "      <td>no</td>\n",
              "      <td>no</td>\n",
              "      <td>no</td>\n",
              "      <td>telephone</td>\n",
              "      <td>may</td>\n",
              "      <td>mon</td>\n",
              "      <td>1</td>\n",
              "      <td>999</td>\n",
              "      <td>0</td>\n",
              "      <td>nonexistent</td>\n",
              "      <td>1.1</td>\n",
              "      <td>93.994</td>\n",
              "      <td>-36.4</td>\n",
              "      <td>4.857</td>\n",
              "      <td>5191.0</td>\n",
              "      <td>no</td>\n",
              "    </tr>\n",
              "    <tr>\n",
              "      <th>1</th>\n",
              "      <td>57</td>\n",
              "      <td>services</td>\n",
              "      <td>married</td>\n",
              "      <td>high.school</td>\n",
              "      <td>unknown</td>\n",
              "      <td>no</td>\n",
              "      <td>no</td>\n",
              "      <td>telephone</td>\n",
              "      <td>may</td>\n",
              "      <td>mon</td>\n",
              "      <td>1</td>\n",
              "      <td>999</td>\n",
              "      <td>0</td>\n",
              "      <td>nonexistent</td>\n",
              "      <td>1.1</td>\n",
              "      <td>93.994</td>\n",
              "      <td>-36.4</td>\n",
              "      <td>4.857</td>\n",
              "      <td>5191.0</td>\n",
              "      <td>no</td>\n",
              "    </tr>\n",
              "    <tr>\n",
              "      <th>2</th>\n",
              "      <td>37</td>\n",
              "      <td>services</td>\n",
              "      <td>married</td>\n",
              "      <td>high.school</td>\n",
              "      <td>no</td>\n",
              "      <td>yes</td>\n",
              "      <td>no</td>\n",
              "      <td>telephone</td>\n",
              "      <td>may</td>\n",
              "      <td>mon</td>\n",
              "      <td>1</td>\n",
              "      <td>999</td>\n",
              "      <td>0</td>\n",
              "      <td>nonexistent</td>\n",
              "      <td>1.1</td>\n",
              "      <td>93.994</td>\n",
              "      <td>-36.4</td>\n",
              "      <td>4.857</td>\n",
              "      <td>5191.0</td>\n",
              "      <td>no</td>\n",
              "    </tr>\n",
              "    <tr>\n",
              "      <th>3</th>\n",
              "      <td>40</td>\n",
              "      <td>admin.</td>\n",
              "      <td>married</td>\n",
              "      <td>basic.6y</td>\n",
              "      <td>no</td>\n",
              "      <td>no</td>\n",
              "      <td>no</td>\n",
              "      <td>telephone</td>\n",
              "      <td>may</td>\n",
              "      <td>mon</td>\n",
              "      <td>1</td>\n",
              "      <td>999</td>\n",
              "      <td>0</td>\n",
              "      <td>nonexistent</td>\n",
              "      <td>1.1</td>\n",
              "      <td>93.994</td>\n",
              "      <td>-36.4</td>\n",
              "      <td>4.857</td>\n",
              "      <td>5191.0</td>\n",
              "      <td>no</td>\n",
              "    </tr>\n",
              "    <tr>\n",
              "      <th>4</th>\n",
              "      <td>56</td>\n",
              "      <td>services</td>\n",
              "      <td>married</td>\n",
              "      <td>high.school</td>\n",
              "      <td>no</td>\n",
              "      <td>no</td>\n",
              "      <td>yes</td>\n",
              "      <td>telephone</td>\n",
              "      <td>may</td>\n",
              "      <td>mon</td>\n",
              "      <td>1</td>\n",
              "      <td>999</td>\n",
              "      <td>0</td>\n",
              "      <td>nonexistent</td>\n",
              "      <td>1.1</td>\n",
              "      <td>93.994</td>\n",
              "      <td>-36.4</td>\n",
              "      <td>4.857</td>\n",
              "      <td>5191.0</td>\n",
              "      <td>no</td>\n",
              "    </tr>\n",
              "  </tbody>\n",
              "</table>\n",
              "</div>"
            ],
            "text/plain": [
              "   age        job  marital  ... euribor3m nr_employed   y\n",
              "0   56  housemaid  married  ...     4.857      5191.0  no\n",
              "1   57   services  married  ...     4.857      5191.0  no\n",
              "2   37   services  married  ...     4.857      5191.0  no\n",
              "3   40     admin.  married  ...     4.857      5191.0  no\n",
              "4   56   services  married  ...     4.857      5191.0  no\n",
              "\n",
              "[5 rows x 20 columns]"
            ]
          },
          "metadata": {},
          "execution_count": 2
        }
      ]
    },
    {
      "cell_type": "code",
      "metadata": {
        "id": "ACBLFr8Ccc7S",
        "colab": {
          "base_uri": "https://localhost:8080/"
        },
        "outputId": "64309224-0746-4ad7-b08f-77ef065a6a8d"
      },
      "source": [
        "data['y'].value_counts()"
      ],
      "execution_count": null,
      "outputs": [
        {
          "output_type": "execute_result",
          "data": {
            "text/plain": [
              "0    36548\n",
              "1     4640\n",
              "Name: y, dtype: int64"
            ]
          },
          "metadata": {},
          "execution_count": 4
        }
      ]
    },
    {
      "cell_type": "code",
      "metadata": {
        "colab": {
          "base_uri": "https://localhost:8080/"
        },
        "id": "uCO2Rnkax8BR",
        "outputId": "074085ef-2e4d-4fb0-cc95-4d95de1ec995"
      },
      "source": [
        "data2 = data\n",
        "data2.dropna()\n",
        "data2['y'] = pd.factorize(data2['y'])[0]\n",
        "data2 = pd.get_dummies(data2, columns=['job', 'marital', 'education', 'default', 'housing', 'loan', 'contact', 'month', 'day_of_week', 'poutcome'], drop_first=True)\n",
        "\n",
        "data2 = data2.corr()\n",
        "data2['y'].sort_values(ascending=False)\n"
      ],
      "execution_count": null,
      "outputs": [
        {
          "output_type": "execute_result",
          "data": {
            "text/plain": [
              "y                                1.000000\n",
              "poutcome_success                 0.316269\n",
              "previous                         0.230181\n",
              "month_mar                        0.144014\n",
              "month_oct                        0.137366\n",
              "month_sep                        0.126067\n",
              "job_student                      0.093955\n",
              "job_retired                      0.092221\n",
              "month_dec                        0.079303\n",
              "cons_conf_idx                    0.054878\n",
              "marital_single                   0.054133\n",
              "education_university.degree      0.050364\n",
              "age                              0.030399\n",
              "education_unknown                0.021430\n",
              "job_unemployed                   0.014752\n",
              "day_of_week_thu                  0.013888\n",
              "housing_yes                      0.011743\n",
              "day_of_week_tue                  0.008046\n",
              "education_illiterate             0.007246\n",
              "day_of_week_wed                  0.006302\n",
              "marital_unknown                  0.005211\n",
              "education_professional.course    0.001003\n",
              "job_unknown                     -0.000151\n",
              "job_management                  -0.000419\n",
              "loan_unknown                    -0.002270\n",
              "housing_unknown                 -0.002270\n",
              "default_yes                     -0.003041\n",
              "loan_yes                        -0.004466\n",
              "job_self-employed               -0.004663\n",
              "job_technician                  -0.006149\n",
              "job_housemaid                   -0.006505\n",
              "education_high.school           -0.007452\n",
              "month_aug                       -0.008813\n",
              "month_jun                       -0.009182\n",
              "month_nov                       -0.011796\n",
              "job_entrepreneur                -0.016644\n",
              "day_of_week_mon                 -0.021265\n",
              "education_basic.6y              -0.023517\n",
              "month_jul                       -0.032230\n",
              "job_services                    -0.032301\n",
              "marital_married                 -0.043398\n",
              "education_basic.9y              -0.045135\n",
              "campaign                        -0.066357\n",
              "job_blue-collar                 -0.074423\n",
              "default_unknown                 -0.099293\n",
              "month_may                       -0.108271\n",
              "cons_price_idx                  -0.136211\n",
              "contact_telephone               -0.144773\n",
              "poutcome_nonexistent            -0.193507\n",
              "emp_var_rate                    -0.298334\n",
              "euribor3m                       -0.307771\n",
              "pdays                           -0.324914\n",
              "nr_employed                     -0.354678\n",
              "Name: y, dtype: float64"
            ]
          },
          "metadata": {},
          "execution_count": 3
        }
      ]
    },
    {
      "cell_type": "markdown",
      "metadata": {
        "id": "LgUsb0jPM5j8"
      },
      "source": [
        "# Misc Graphs"
      ]
    },
    {
      "cell_type": "code",
      "metadata": {
        "id": "Yo-7Vp1QzXdT"
      },
      "source": [
        "alt.data_transformers.disable_max_rows()\n",
        "alt.Chart(data).mark_bar().encode(\n",
        "    x = 'poutcome',\n",
        "    y = alt.Y('count(y)', stack=\"normalize\", axis=alt.Axis(title=\"Percent\", format=\"%\")),\n",
        "    color='y'\n",
        "    # tooltip=['count(y)']\n",
        ").properties(\n",
        "    width=100,\n",
        "    height=200\n",
        ")"
      ],
      "execution_count": null,
      "outputs": []
    },
    {
      "cell_type": "code",
      "metadata": {
        "id": "Hkl0Pq6xhHzJ"
      },
      "source": [
        "alt.Chart(data).mark_bar().encode(\n",
        "    x = 'job',\n",
        "    y = alt.Y('count(y)', stack=\"normalize\", axis=alt.Axis(title=\"Percent\", format=\"%\")),\n",
        "    color='y'\n",
        "    # tooltip=['count(y)']\n",
        ").properties(\n",
        "    width=200,\n",
        "    height=250\n",
        ")"
      ],
      "execution_count": null,
      "outputs": []
    },
    {
      "cell_type": "markdown",
      "metadata": {
        "id": "DhdrmOkyCcd2"
      },
      "source": [
        "The above charts seem to show:\n",
        "\n",
        "\n",
        "*   Students are a positive correlation\n",
        "*   Retired is a positive correlation, unless single\n",
        "*   Serivces has a negative correlation (always the lowest)\n",
        "\n",
        "\n",
        "\n",
        "--------------------------------\n",
        "\n",
        "\n",
        "\n"
      ]
    },
    {
      "cell_type": "code",
      "metadata": {
        "id": "l5EiOY5HzvG2"
      },
      "source": [
        "alt.Chart(data).mark_bar().encode(\n",
        "    x = alt.X('day_of_week', sort=['mon', 'tue', 'wed', 'thu', 'fri']),\n",
        "    y = alt.Y('count(y)', stack=\"normalize\", axis=alt.Axis(title=\"Percent\", format=\"%\")),\n",
        "    color='y',\n",
        "    column= alt.Column(\n",
        "        'month',\n",
        "        sort=['mar', 'apr', 'may', 'jun', 'jul', 'aug', 'sep', 'oct', 'nov', 'dec']\n",
        "    )\n",
        "    # tooltip=['count(y)']\n",
        ")"
      ],
      "execution_count": null,
      "outputs": []
    },
    {
      "cell_type": "markdown",
      "metadata": {
        "id": "fEB9DfqdjeBQ"
      },
      "source": [
        "The above charts seems to show that the following months have better results:\n",
        "\n",
        "\n",
        "*   March\n",
        "*   April (kinda)\n",
        "*   September\n",
        "*   October\n",
        "*   December\n",
        "\n",
        "---------------------------\n",
        "\n"
      ]
    },
    {
      "cell_type": "code",
      "metadata": {
        "id": "771D6TNTHwp2"
      },
      "source": [
        "alt.Chart(data).mark_bar().encode(\n",
        "    x = alt.X('campaign', bin=alt.Bin(extent=[0, 44], step=2)),\n",
        "    y = alt.Y('count(y)', stack=\"normalize\", axis=alt.Axis(title=\"Percent\", format=\"%\")),\n",
        "    color='y',\n",
        "    tooltip=['count(y)']\n",
        ").properties(\n",
        "    width=200,\n",
        "    height=250\n",
        ")"
      ],
      "execution_count": null,
      "outputs": []
    },
    {
      "cell_type": "code",
      "metadata": {
        "id": "cjl-H1HcrZGh"
      },
      "source": [
        "alt.Chart(data).mark_bar().encode(\n",
        "    x = alt.X('age', bin=alt.Bin(extent=[15, 98], step=5)),\n",
        "    y = alt.Y('count(y)', stack=\"normalize\", axis=alt.Axis(title=\"Percent\", format=\"%\")),\n",
        "    color='y',\n",
        "    column='contact'\n",
        "    # tooltip=['count(y)']\n",
        ").properties(\n",
        "    width=300,\n",
        "    height=200\n",
        ")"
      ],
      "execution_count": null,
      "outputs": []
    },
    {
      "cell_type": "code",
      "metadata": {
        "id": "Wx6sY77mtw7l"
      },
      "source": [
        "alt.Chart(data).mark_bar().encode(\n",
        "    x = alt.X('euribor3m', bin=alt.Bin(extent=[3, 5.2], step=0.1)),\n",
        "    y = alt.Y('count(y)', stack=\"normalize\", axis=alt.Axis(title=\"Percent\", format=\"%\")),\n",
        "    color='y'\n",
        "    # tooltip=['count(y)']\n",
        ").properties(\n",
        "    width=300,\n",
        "    height=200\n",
        ")"
      ],
      "execution_count": null,
      "outputs": []
    },
    {
      "cell_type": "markdown",
      "metadata": {
        "id": "xxWtTbAZZwh3"
      },
      "source": [
        "# Test 1\n",
        "Age, job, month, poutcome\n",
        "\n",
        "**Result = Weighted Average 77%**\n",
        "\n",
        "---\n",
        "\n",
        "# Test 2\n",
        "\n",
        "Age, job, month, poutcome, education, loan\n",
        "\n",
        "**Results = Weighted Average 78%**\n",
        "\n",
        "---\n",
        "\n",
        "# Test 3\n",
        "\n",
        "Age, job, poutcome, month, education, loan, euribor3m\n",
        "\n",
        "**Results = Weighted Average 82-84%**\n",
        "\n",
        "*Notes: pdays seems to have effect or slightly detrimental*\n",
        "\n",
        "---\n",
        "\n",
        "# Test 4\n",
        "\n",
        "Age, job, month, poutcome, education, loan, euribor3m, marital, emp_var_rate, cons_price_idx, cons_conf_idx, contact, pdays, nr_employed\n",
        "\n",
        "**Results = Weighted Average 83%**\n",
        "\n",
        "*Notes:*\n",
        "\n",
        "\n",
        "*   nr.employed seemed to decrease F1 by 1%.\n",
        "*   Previous seemed to decrease F1 by several %.\n",
        "*   The following don't seem to increase the score, but seem to stabilize the predictions: marital, emp_var_rate, cons_price_idx, cons_conf_idx, contact, pdays\n",
        "\n",
        "\n",
        "\n",
        "\n"
      ]
    },
    {
      "cell_type": "code",
      "metadata": {
        "colab": {
          "base_uri": "https://localhost:8080/"
        },
        "id": "PQU_eZKFZs14",
        "outputId": "feb8a894-6654-4ce6-da59-856b29ea9a23"
      },
      "source": [
        "# separating out the data we want to test and then onehot encoding it.\n",
        "\n",
        "randomNum = 56\n",
        "\n",
        "testdata2 = data[['y', 'age', 'job', 'poutcome', 'month', 'education', 'loan', 'euribor3m', 'marital', 'emp_var_rate', 'cons_price_idx', 'cons_conf_idx', 'contact', 'pdays', 'nr_employed']]\n",
        "testdata2.dropna(subset=['age', 'job', 'poutcome', 'month', 'education', 'loan', 'euribor3m', 'marital', 'emp_var_rate', 'cons_price_idx', 'cons_conf_idx', 'contact', 'pdays', 'nr_employed'])\n",
        "\n",
        "testdata2['y'] = pd.factorize(testdata2['y'])[0]\n",
        "\n",
        "encodedData = pd.get_dummies(testdata2, columns=['job', 'month', 'poutcome', 'education', 'loan', 'marital', 'contact'], drop_first=True)\n",
        "\n",
        "columnNames = list(encodedData.columns.values)\n",
        "\n",
        "# Oversampling\n",
        "\n",
        "ro = SMOTE(random_state=randomNum, sampling_strategy=0.25)\n",
        "\n",
        "X = encodedData.drop(['y'], axis=1)\n",
        "y = encodedData['y']\n",
        "\n",
        "# Oversample, note that we oversample X and y at the same time in order to \n",
        "# make sure our features and targets stay synched.\n",
        "X_over, y_over = ro.fit_resample(X, y)\n",
        "\n",
        "# Convert this to a dataframe and check the counts, now they're equal, because\n",
        "# we have a bunch of duplicate survivors\n",
        "oversampledY = pd.DataFrame(y_over)\n",
        "oversampledY.value_counts()\n",
        "\n",
        "\n",
        "\n",
        "# undersampling\n",
        "\n",
        "oversampledX = pd.DataFrame(X_over)\n",
        "oversampledy = pd.DataFrame(y_over)\n",
        "\n",
        "ru = RandomUnderSampler(random_state=randomNum, sampling_strategy=0.40)\n",
        "\n",
        "X = oversampledX\n",
        "y = oversampledy\n",
        "\n",
        "X_overunder, y_overunder = ru.fit_resample(X, y)\n",
        "\n",
        "overunderY = pd.DataFrame(y_overunder)\n",
        "overunderY.value_counts()\n",
        "\n",
        "\n",
        "\n",
        "clf = DecisionTreeClassifier(random_state=randomNum, max_depth=30, min_samples_leaf=4)\n",
        "\n",
        "overundersampledX = pd.DataFrame(X_overunder)\n",
        "overundersampledy = pd.DataFrame(y_overunder)\n",
        "\n",
        "X_train, X_test, y_train, y_test = train_test_split(overundersampledX, y_overunder, test_size=0.2, random_state=randomNum)\n",
        "\n",
        "# Train Decision Tree Classifer\n",
        "clf = clf.fit(X_train,y_train)\n",
        "\n",
        "#Predict the response for test dataset\n",
        "y_pred = pd.DataFrame(clf.predict(X_test))\n",
        "\n",
        "\n",
        "print(\"F1:\",metrics.classification_report(y_test, y_pred))\n",
        "\n",
        "# ftImportance = pd.DataFrame(clf.feature_importances_)\n",
        "# ftImportance.rename(columns=columnNames)\n",
        "# ftImportance.insert(0, 'feature', columnNames[1:])\n",
        "# ftImportance.columns = ['feature', 'importance']\n",
        "# ftImportance.sort_values(by=['importance'], ascending=False, inplace=True)\n",
        "# ftImportance"
      ],
      "execution_count": null,
      "outputs": [
        {
          "output_type": "stream",
          "name": "stderr",
          "text": [
            "/usr/local/lib/python3.7/dist-packages/ipykernel_launcher.py:8: SettingWithCopyWarning: \n",
            "A value is trying to be set on a copy of a slice from a DataFrame.\n",
            "Try using .loc[row_indexer,col_indexer] = value instead\n",
            "\n",
            "See the caveats in the documentation: https://pandas.pydata.org/pandas-docs/stable/user_guide/indexing.html#returning-a-view-versus-a-copy\n",
            "  \n",
            "/usr/local/lib/python3.7/dist-packages/sklearn/utils/deprecation.py:87: FutureWarning: Function safe_indexing is deprecated; safe_indexing is deprecated in version 0.22 and will be removed in version 0.24.\n",
            "  warnings.warn(msg, category=FutureWarning)\n",
            "/usr/local/lib/python3.7/dist-packages/sklearn/utils/deprecation.py:87: FutureWarning: Function safe_indexing is deprecated; safe_indexing is deprecated in version 0.22 and will be removed in version 0.24.\n",
            "  warnings.warn(msg, category=FutureWarning)\n"
          ]
        },
        {
          "output_type": "stream",
          "name": "stdout",
          "text": [
            "F1:               precision    recall  f1-score   support\n",
            "\n",
            "           0       0.85      0.93      0.89      4553\n",
            "           1       0.77      0.61      0.68      1843\n",
            "\n",
            "    accuracy                           0.84      6396\n",
            "   macro avg       0.81      0.77      0.79      6396\n",
            "weighted avg       0.83      0.84      0.83      6396\n",
            "\n"
          ]
        }
      ]
    },
    {
      "cell_type": "code",
      "metadata": {
        "colab": {
          "base_uri": "https://localhost:8080/",
          "height": 279
        },
        "id": "ONNQ5dJBZuvg",
        "outputId": "186fc44b-57bd-4bcc-f2be-c84110b5bd6a"
      },
      "source": [
        "metrics.plot_confusion_matrix(clf, X_test, y_test, values_format = '.5f')\n",
        "plt.show() "
      ],
      "execution_count": null,
      "outputs": [
        {
          "output_type": "display_data",
          "data": {
            "image/png": "[encoded data removed]",
            "text/plain": [
              "<Figure size 432x288 with 2 Axes>"
            ]
          },
          "metadata": {
            "needs_background": "light"
          }
        }
      ]
    },
    {
      "cell_type": "code",
      "metadata": {
        "id": "rvt5rz4xzpks"
      },
      "source": [
        "# Save the Model as a pickle\n",
        "import pickle\n",
        "with open('final_model.pickle', 'wb') as handle:\n",
        "    pickle.dump(clf, handle, protocol=pickle.HIGHEST_PROTOCOL)\n"
      ],
      "execution_count": null,
      "outputs": []
    },
    {
      "cell_type": "markdown",
      "metadata": {
        "id": "fMA2bAv_tp79"
      },
      "source": [
        "# Final Test"
      ]
    },
    {
      "cell_type": "code",
      "metadata": {
        "id": "KJ2QvcMRtjJR"
      },
      "source": [
        "from google.colab import files\n",
        "\n",
        "# the final test csv must be uploaded to the colab session on the left-hand side for the below to work\n",
        "\n",
        "finalTest = pd.read_csv('/content/bank_additional_final_test_fixed.csv')\n",
        "\n",
        "\n",
        "finalTest.columns = finalTest.columns.str.replace('.', '_')\n",
        "finalTest = finalTest[['age', 'job', 'poutcome', 'month', 'education', 'loan', 'euribor3m', 'marital', 'emp_var_rate', 'cons_price_idx', 'cons_conf_idx', 'contact', 'pdays', 'nr_employed']]\n",
        "\n",
        "finalTest = pd.get_dummies(finalTest, columns=['job', 'month', 'poutcome', 'education', 'loan', 'marital', 'contact'], drop_first=True)\n",
        "\n",
        "#Predict the response for test dataset\n",
        "finalPrediction = pd.DataFrame(clf.predict(finalTest))\n",
        "\n",
        "finalPrediction.to_csv('nathanWheewright_module2_finalPrediction.csv')\n",
        "\n",
        "files.download(\"nathanWheewright_module2_finalPrediction.csv\")"
      ],
      "execution_count": null,
      "outputs": []
    }
  ]
}